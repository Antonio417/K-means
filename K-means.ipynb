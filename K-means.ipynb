{
 "cells": [
  {
   "cell_type": "markdown",
   "id": "d64d2560",
   "metadata": {
    "id": "d64d2560"
   },
   "source": [
    "# Lab 3 (Weeks 8,9): k-Means Clustering"
   ]
  },
  {
   "cell_type": "markdown",
   "id": "a5d556f6",
   "metadata": {
    "id": "a5d556f6"
   },
   "source": [
    "<div class=\"alert alert-block alert-warning\">\n",
    "\n",
    "<b>Enter you credentials below</b>\n",
    "\n",
    "- <b>Student Name:</b> Antonio Fernando Christophorus\n",
    "- <b>Student ID:</b> 30311063\n",
    "- <b>Date:</b> March 21, 2022\n",
    "    "
   ]
  },
  {
   "cell_type": "markdown",
   "id": "99add4fa",
   "metadata": {
    "id": "99add4fa"
   },
   "source": [
    "![unsup2.jpg](img/ML.jpg)"
   ]
  },
  {
   "cell_type": "markdown",
   "id": "9636a525",
   "metadata": {
    "id": "9636a525"
   },
   "source": [
    "## Unsupervised Learning\n",
    "\n",
    "As the name suggests, unsupervised learning is a type of machine learning in which the training of a model is not supervised using labels of the training dataset. Instead, models themselves attempt to find hidden patterns and insights from the given data. Unsupervised learning cannot be directly applied to a regression or classification problem because unlike supervised learning, we have the input data but no corresponding output data (no labels). The goal of unsupervised learning is to find the underlying structure of the dataset, group that data according to similarities, and represent the data in a compressed format."
   ]
  },
  {
   "cell_type": "markdown",
   "id": "2e68d739",
   "metadata": {
    "id": "2e68d739"
   },
   "source": [
    "## Clustering\n",
    "\n",
    "Clustering is a type of unsupervised learning which involves grouping of data points. Given a set of data points, we can use a clustering algorithm to classify each data point into a specific group. In theory, data points that are in the same group should have similar properties and/or features, while data points in different groups should have highly dissimilar properties and/or features. Some examples of popular clustering algorithms are:\n",
    "- K-Means Clustering\n",
    "- Spectral Clustering\n",
    "- Mean-Shift Clustering\n",
    "- DBSCAN\n",
    "- Gaussian Mixture Models"
   ]
  },
  {
   "cell_type": "markdown",
   "id": "a5706c7f",
   "metadata": {
    "id": "a5706c7f"
   },
   "source": [
    "## K-Means Clustering\n",
    "\n",
    "K-Means Clustering is one of the simplest unsupervised machine learning algorithms. You will first decide a number *k*, which corresponds to the number of clusters that you desire to have in your dataset. This number will also correspond to the number of centroids. A centroid is the location representing the center of a cluster. Each data point in your dataset is allocated to a specific cluster following a set of rules in an iterative manner. Also, the locations of the centroids are updated subsequently by averaging the data points assigned to the respective cluster. The **‘means’** in the k-Means Clustering refers exactly to this method of updating each cluster centroid."
   ]
  },
  {
   "cell_type": "markdown",
   "id": "c49ed2a9",
   "metadata": {
    "id": "c49ed2a9"
   },
   "source": [
    "![kmeans_anim.gif](img/kmeans_anim.gif)"
   ]
  },
  {
   "cell_type": "markdown",
   "id": "948cb0aa",
   "metadata": {
    "id": "948cb0aa"
   },
   "source": [
    "## What you should do in this lab exercise!\n",
    "\n",
    "In this laboratory exercise, you will create a program that clusters and re-colours each pixel in a provided colour image to **k** mean colours using the k-means clustering algorithm. In all of the tasks below, you may not use any pre-written libraries for k-Means Clustering (e.g. **no** scikit-learn), instead you should use your knowledge of python and numpy to build your own code to perform k-Means Clustering. Your end result of the clustered image should look something like the one shown below.\n",
    "\n",
    "*Hint*: If you cannot see the displayed image '*objective.png*', have a look into the provided '*img*' folder."
   ]
  },
  {
   "cell_type": "markdown",
   "id": "dd699d9a",
   "metadata": {
    "id": "dd699d9a"
   },
   "source": [
    "![objective.png](img/objective.png)"
   ]
  },
  {
   "cell_type": "markdown",
   "id": "32e5729d",
   "metadata": {
    "id": "32e5729d"
   },
   "source": [
    "<div class=\"alert alert-block alert-warning\">\n",
    "    \n",
    "You are going to work on the following five tasks throughout this lab. *Each task in this lab exercise is worth 2% of your final unit grade (total 10%)*.\n",
    "\n",
    "- **Task 1** : Distance Function\n",
    "- **Task 2** : k-Means Clustering\n",
    "- **Task 3** : Visualization of centroids\n",
    "- **Task 4** : k-Means++ Initialization\n",
    "- **Task 5** : Comparison between Random Initialization and k-Means++ Initialization\n",
    "    \n",
    "</div>"
   ]
  },
  {
   "cell_type": "code",
   "execution_count": 1,
   "id": "5889c40e",
   "metadata": {
    "executionInfo": {
     "elapsed": 10,
     "status": "ok",
     "timestamp": 1649292640794,
     "user": {
      "displayName": "Markus Hiller",
      "userId": "16727612601438706693"
     },
     "user_tz": -600
    },
    "id": "5889c40e"
   },
   "outputs": [],
   "source": [
    "# As always, we first import several libraries that will be helpful to solve the tasks\n",
    "# Important: You are only allowed to use cv2 to import images, but you may NOT use the contained k-means implementation\n",
    "import matplotlib.pyplot as plt  \n",
    "from mpl_toolkits import mplot3d\n",
    "import numpy as np     \n",
    "import cv2\n",
    "import time\n",
    "from IPython.display import clear_output\n",
    "from matplotlib.colors import ListedColormap"
   ]
  },
  {
   "cell_type": "markdown",
   "id": "538a0eb0",
   "metadata": {
    "id": "538a0eb0"
   },
   "source": [
    "<div class=\"alert alert-block alert-info\">\n",
    "\n",
    "## Task 1: Distance function\n",
    "In this task, you wil build a helper function to compute the squared distance from a set of data points to a set of mean values (*aka* centroids). You are given a small dataset of five data points and two centroids for testing. Using your 'dist2c' function, you will compute distances from each centroid to every data point. Finally, you will visualize your results and check whether your distances are correct by assigning the data points to the closest centroid and displaying the results.\n",
    "    \n",
    "</div>"
   ]
  },
  {
   "cell_type": "markdown",
   "id": "5c627b64",
   "metadata": {
    "id": "5c627b64"
   },
   "source": [
    "Write your own **dist2c** function, which takes a set of data points ('*data*') and a set of means ('*centroids*') and computes the squared distance from each mean to every data point."
   ]
  },
  {
   "cell_type": "code",
   "execution_count": 2,
   "id": "85831bc1",
   "metadata": {
    "id": "85831bc1"
   },
   "outputs": [],
   "source": [
    "def dist2c(data, centroids):\n",
    "    # The inputs and the outputs of your function should be as follows:\n",
    "    # Inputs - data      : numpy array of size N x d\n",
    "    #          centroids : numpy array of size c x d\n",
    "    # Output - dist      : numpy array of size c x N\n",
    "    # N = the number of data points, c = the number of centroids, d = dimension of data\n",
    "\n",
    "    ### Insert your solution here ###\n",
    "    dist = ...\n",
    "\n",
    "    return dist"
   ]
  },
  {
   "cell_type": "markdown",
   "id": "a255856b",
   "metadata": {
    "id": "a255856b"
   },
   "source": [
    "Now, let's check the function you wrote on the following provided data points.\n",
    "- X contains five 3-dimensional data points\n",
    "\n",
    "\\begin{equation}\n",
    "X = \n",
    "\\begin{bmatrix}\n",
    "0.67187976 & 0.44254368 & 0.17900127\\\\\n",
    "0.55085456 & 0.65891464 & 0.18370379\\\\\n",
    "0.79861987 & 0.3439561  & 0.68334744\\\\\n",
    "0.36695437 & 0.15391793 & 0.81100023\\\\\n",
    "0.22898267 & 0.58062367 & 0.5637733 \n",
    "\\end{bmatrix}\n",
    "\\end{equation}\n",
    "\n",
    "- M contains two centroids\n",
    "\\begin{equation}\n",
    "M = \n",
    "\\begin{bmatrix}\n",
    "0.66441854 & 0.08332493 & 0.54049661\\\\\n",
    "0.05491067 & 0.94606233 & 0.29515262\n",
    "\\end{bmatrix}\n",
    "\\end{equation}\n",
    "\n",
    "Use your **dist2c** function to compute the distances from each centroid to every data point. Print your results. If you wrote the function correctly, your answer should be close to:\n",
    "\n",
    "\\begin{bmatrix}\n",
    "0.25977266 & 0.47150141 & 0.10634496 & 0.16664051 & 0.43745224\\\\\n",
    "0.64767303 & 0.34083498 & 1.0663305 & 0.99096278 & 0.23600355\n",
    "\\end{bmatrix}"
   ]
  },
  {
   "cell_type": "code",
   "execution_count": 3,
   "id": "b5205b29",
   "metadata": {
    "id": "b5205b29",
    "outputId": "1f65ac95-0ec3-4731-ef1a-9f600315ae49"
   },
   "outputs": [],
   "source": [
    "### Insert your solution here ###\n",
    "..."
   ]
  },
  {
   "cell_type": "markdown",
   "id": "34060b45",
   "metadata": {
    "id": "34060b45"
   },
   "source": [
    "Write a code to draw a 3D scatter plot assigning each datapoint to its closest centroid using two colors.\n",
    "\n",
    "*Hint*: Use the '*scatter3D*' function from matplotlib, and choose a different marker (or different marker size) to indicate the cluster centroids."
   ]
  },
  {
   "cell_type": "code",
   "execution_count": 4,
   "id": "53a1bf5f",
   "metadata": {
    "id": "53a1bf5f",
    "outputId": "03ab9be9-5aca-436b-9e84-3923f47a5d92"
   },
   "outputs": [
    {
     "data": {
      "text/plain": [
       "Ellipsis"
      ]
     },
     "execution_count": 4,
     "metadata": {},
     "output_type": "execute_result"
    }
   ],
   "source": [
    "### Insert your solution here ###\n",
    "\n",
    "# Create the plot and display the result\n",
    "..."
   ]
  },
  {
   "cell_type": "markdown",
   "id": "f03d2c9e",
   "metadata": {
    "id": "f03d2c9e"
   },
   "source": [
    "<div class=\"alert alert-block alert-success\">\n",
    "    \n",
    "#### What do you observe here? Are the data points assigned to their closest centroid?\n",
    "\n",
    "Write your answer here\n",
    "\n",
    "</div>"
   ]
  },
  {
   "cell_type": "markdown",
   "id": "a1162a3e",
   "metadata": {
    "id": "a1162a3e"
   },
   "source": [
    "<div class=\"alert alert-block alert-info\">\n",
    "\n",
    "## Task 2: k-Means Clustering\n",
    "In this task, you will implement k-Means Clustering. First, you will write a function to generate random centroids for initialization. Then you will write a function to perform k-Means Clustering (You may want to follow the steps on the lab instructions sheet). Afterwards, you will use these functions to cluster the pixels of the provided *mandrill.jpg* image. Finally, you will display the results.\n",
    "    \n",
    "</div>"
   ]
  },
  {
   "cell_type": "markdown",
   "id": "7c9ac451",
   "metadata": {
    "id": "7c9ac451"
   },
   "source": [
    "Write a function **random_centroids**, which takes a dataset and an integer value k (= number of centroids) as inputs, and generates k data points (i.e. the centroids) which are randomly sampled from the dataset."
   ]
  },
  {
   "cell_type": "code",
   "execution_count": 5,
   "id": "0ecea901",
   "metadata": {
    "id": "0ecea901"
   },
   "outputs": [],
   "source": [
    "def random_centroids(data, k):\n",
    "    # The inputs and the outputs of your function should be as follows:\n",
    "    # Inputs - data     : numpy array (N x d)\n",
    "    #        - k        : an integer value\n",
    "    # Output - centroids: numpy array (k x d)\n",
    "    # N = number of data points, d = dimension of data, k = number of centroids\n",
    "    \n",
    "    ### Insert your solution here ###\n",
    "    \n",
    "    centroids = ...\n",
    "    \n",
    "    return centroids"
   ]
  },
  {
   "cell_type": "markdown",
   "id": "be7e331d",
   "metadata": {
    "id": "be7e331d"
   },
   "source": [
    "Write a function **mykMeans**, which takes a dataset, an set of k centroids and an integer value T (= number of iterations) as inputs. The function should perform k-Means Clustering on the input dataset by using the input centroids as intilization. After running for T iterations, the function should finally output a cluster index for each data point, the final set of k centroids, and the loss vector containing the k-Means loss at each iteration.(You may want to use your function **dist2c** to compute distances between centroids and data points at each iteration.)"
   ]
  },
  {
   "cell_type": "code",
   "execution_count": 6,
   "id": "d5d9eae4",
   "metadata": {
    "id": "d5d9eae4"
   },
   "outputs": [],
   "source": [
    "def mykMeans(data, centroids, T):\n",
    "    # The inputs and the outputs of your function should be as follows:\n",
    "    # Inputs  - data        : numpy array (N x d)\n",
    "    #         - centroids   : numpy array (k x d)\n",
    "    #         - T           : integer\n",
    "    # Outputs - cluster_idx : numpy array (N,)\n",
    "    #         - centroids   : numpy array (k x d)\n",
    "    #         - losses      : list (T)\n",
    "    # N = number of data points, d = dimension of data, k = number of centroids, T = number of iterations\n",
    "    \n",
    "    \n",
    "    ### Insert your solution here ###\n",
    "    ...\n",
    "        \n",
    "    return cluster_idx, centroids, kMeans_loss"
   ]
  },
  {
   "cell_type": "markdown",
   "id": "1b1224e1",
   "metadata": {
    "id": "1b1224e1"
   },
   "source": [
    "Load the *mandrill.jpg* image and display it."
   ]
  },
  {
   "cell_type": "code",
   "execution_count": 7,
   "id": "8f093aef",
   "metadata": {
    "id": "8f093aef",
    "outputId": "28c398aa-d706-48fd-e54b-6436439dc870"
   },
   "outputs": [],
   "source": [
    "### Insert your solution here ###\n",
    "\n",
    "# Load and display the colour (!) image\n"
   ]
  },
  {
   "cell_type": "markdown",
   "id": "5cfb5054",
   "metadata": {
    "id": "5cfb5054"
   },
   "source": [
    "Now, use your **random_centroids** function to generate four random centroids. Then, use your **mykMeans** function to cluster the pixels of the *mandrill.jpg* image. (*Hint*: You may want to reshape your image before applying the **mykMeans** function.) Display the final clustered image. Each pixel should be displayed by the colour of the assigned centroid (i.e. you should only see a total of *k* colours in your clustered image)."
   ]
  },
  {
   "cell_type": "code",
   "execution_count": 8,
   "id": "340113cb",
   "metadata": {
    "id": "340113cb",
    "outputId": "2a122cf2-d300-4b22-91ca-7fe7d7c122b4"
   },
   "outputs": [
    {
     "data": {
      "text/plain": [
       "Ellipsis"
      ]
     },
     "execution_count": 8,
     "metadata": {},
     "output_type": "execute_result"
    }
   ],
   "source": [
    "# Define a fixed random seed for repeatability\n",
    "np.random.seed(12)\n",
    "\n",
    "### Insert your solution here ###\n",
    "# Initialize centroids, perform k-means and visualise the clustered colour image\n",
    "..."
   ]
  },
  {
   "cell_type": "markdown",
   "id": "c3571c5a",
   "metadata": {
    "id": "c3571c5a"
   },
   "source": [
    "<div class=\"alert alert-block alert-success\">\n",
    "    \n",
    "#### Have some fun with your k-Means Clusering impementation! Run the program several times with different random seeds to see if you always converge to the same solution. Try changing k from 4 to other numbers (from 2 to 10) and see how this affects the output and the repeatability of the program. Report and discuss your observations.\n",
    "\n",
    "\n",
    "Write your answer here\n",
    "\n",
    "</div>"
   ]
  },
  {
   "cell_type": "code",
   "execution_count": null,
   "id": "cabf2ca8",
   "metadata": {
    "id": "cabf2ca8"
   },
   "outputs": [],
   "source": []
  },
  {
   "cell_type": "code",
   "execution_count": null,
   "id": "bee74150",
   "metadata": {
    "id": "bee74150"
   },
   "outputs": [],
   "source": []
  },
  {
   "cell_type": "code",
   "execution_count": null,
   "id": "96c633c0",
   "metadata": {
    "id": "96c633c0"
   },
   "outputs": [],
   "source": []
  },
  {
   "cell_type": "markdown",
   "id": "560c32fe",
   "metadata": {
    "id": "560c32fe"
   },
   "source": [
    "<div class=\"alert alert-block alert-info\">\n",
    "\n",
    "## Tasks 3:  Visualization of centroids\n",
    "In this task you are asked to visualize how the centroids are updated during k-Means Clustering. For that, you will write code to plot the data points along with the centroids and display both the plot and the clustered image side-by-side. Then, you will use that function inside your k-Means Clustering implementation to observe how the centroids move with each iteration. \n",
    "    \n",
    "</div>"
   ]
  },
  {
   "cell_type": "markdown",
   "id": "82815d38",
   "metadata": {
    "id": "82815d38"
   },
   "source": [
    "Write your own function **visualize** which takes the dataset, cluster indices, centroids and sample indices, and generates a figure of two subplots:\n",
    "1. A 3D scatter plot of the datapoints and centroids.\n",
    "2. A display of the clustered image\n",
    "\n",
    "For the 3D scatter plot, the colour of each data point should reflect the colour of the closest centroid (i.e. the centroid which it is assigned to). As it is computationally expensive to plot all the data points at each iteration, you may only draw 250 randomly selected data points (to speed things up)."
   ]
  },
  {
   "cell_type": "code",
   "execution_count": 9,
   "id": "07184424",
   "metadata": {
    "id": "07184424"
   },
   "outputs": [],
   "source": [
    "def visualize(data, cluster_idx, centroids, sample_idx):\n",
    "    # The inputs and the outputs of your function should be as follows:\n",
    "    # Inputs  - data        : numpy array (N x d)\n",
    "    #         - cluster_idx : numpy array (N,)\n",
    "    #         - centroids   : numpy array (k x d)\n",
    "    #         - sample_idx  : numpy array (250,)\n",
    "    # Outputs - figure      : subplot (1, 2)\n",
    "    # N = number of data points, d = dimension of data, k = number of centroids\n",
    "    \n",
    "    ### Insert your solution here ###\n",
    "\n",
    "    # Create 3D scatter plot with corresponding colours as first sub-plot\n",
    "    ...\n",
    "\n",
    "    # Create visualization of the clustered image as second sub-plot\n",
    "    ...\n",
    "\n",
    "    # Show both visiualizations\n",
    "    ..."
   ]
  },
  {
   "cell_type": "markdown",
   "id": "30ec8ed9",
   "metadata": {
    "id": "30ec8ed9"
   },
   "source": [
    "Now modify your **mykMeans** function and create a new **myKMeans_visualize** function by adding the **visualize** function that you wrote above in order to visualize the results at every iteration. \n",
    "\n",
    "Make sure you add a time pause of 1-2 seconds after each iteration so there is enough time for you to observe the convergence of the centroids clearly! *Hint*: the '*time*' library we imported at the beginning provides a '*sleep*' function!"
   ]
  },
  {
   "cell_type": "code",
   "execution_count": 10,
   "id": "3d7b328d",
   "metadata": {
    "id": "3d7b328d"
   },
   "outputs": [],
   "source": [
    "def mykMeans_visualize(data, centroids, T):\n",
    "    # The inputs and the outputs of your function should be as follows:\n",
    "    # Inputs  - data        : numpy array (N x d)\n",
    "    #         - centroids   : numpy array (k x d)\n",
    "    #         - T           : integer\n",
    "    # N = number of data points, d = dimension of data, k = number of centroids, T = number of iterations\n",
    "    \n",
    "    ### Insert your solution here ###\n",
    "    ...\n",
    "        \n",
    "    return"
   ]
  },
  {
   "cell_type": "markdown",
   "id": "e0fdb1d8",
   "metadata": {
    "id": "e0fdb1d8"
   },
   "source": [
    "Test your new **myKMeans_visualize** function on the *mandrill.jpg* image."
   ]
  },
  {
   "cell_type": "code",
   "execution_count": 11,
   "id": "e2556f19",
   "metadata": {
    "colab": {
     "base_uri": "https://localhost:8080/",
     "height": 225
    },
    "executionInfo": {
     "elapsed": 124,
     "status": "error",
     "timestamp": 1649255908183,
     "user": {
      "displayName": "Markus Hiller",
      "userId": "16727612601438706693"
     },
     "user_tz": -600
    },
    "id": "e2556f19",
    "outputId": "27613132-5856-40ea-d42b-fc8bc7ed2a87"
   },
   "outputs": [
    {
     "data": {
      "text/plain": [
       "Ellipsis"
      ]
     },
     "execution_count": 11,
     "metadata": {},
     "output_type": "execute_result"
    }
   ],
   "source": [
    "# Specify a random seed (will determine the random initialisation)\n",
    "np.random.seed(12)\n",
    "\n",
    "# Initialise your centroids and run your k-Means visualization function\n",
    "..."
   ]
  },
  {
   "cell_type": "markdown",
   "id": "ae0fd62a",
   "metadata": {
    "id": "ae0fd62a"
   },
   "source": [
    "<div class=\"alert alert-block alert-success\">\n",
    "    \n",
    "#### Observe how the centroids move with each iteration. Did you see any pattern in the movement of each centroid? Report and discuss your observations!\n",
    "\n",
    "\n",
    "Write your answer here\n",
    "\n",
    "</div>"
   ]
  },
  {
   "cell_type": "markdown",
   "id": "c3f41938",
   "metadata": {
    "id": "c3f41938"
   },
   "source": [
    "<div class=\"alert alert-block alert-info\">\n",
    "\n",
    "## Tasks 4: k-Means++ Initialization\n",
    "    \n",
    "In this task, you will implement the k-Means++ initialization of the k-Means Clustering algorithm. First, you will write a function to generate centroids for the initialization using the k-Means++ initialization procedure (You may want to follow the steps on the lab instructions sheet, and read up on the method using the provided reference). \n",
    "\n",
    "Then you will use the generated initial centroids together with your previous k-Means Clustering implementation to cluster the pixels of the *mandrill.jpg* image. Finally, you will display the results.   \n",
    "    \n",
    "</div>"
   ]
  },
  {
   "cell_type": "markdown",
   "id": "0cba93e0",
   "metadata": {
    "id": "0cba93e0"
   },
   "source": [
    "Write a function **kmeanspp_centroids**, which takes a dataset and an integer value k (= number of centroids) as inputs, and generates k centroids following the k-Means++ initilization procedure. You might want to re-use your **dist2c** function here."
   ]
  },
  {
   "cell_type": "code",
   "execution_count": 12,
   "id": "25e95e56",
   "metadata": {
    "id": "25e95e56"
   },
   "outputs": [],
   "source": [
    "def kmeanspp_centroids(data,k):\n",
    "    # The inputs and the outputs of your function should be as follows:\n",
    "    # Inputs - data     : numpy array (N x d)\n",
    "    #        - k        : an integer value\n",
    "    # Output - centroids: numpy array (k x d)\n",
    "    # N = number of data points, d = dimension of data, k = number of centroids\n",
    "    \n",
    "    ### Insert your solution here ###\n",
    "    ...\n",
    "    \n",
    "    return centroids"
   ]
  },
  {
   "cell_type": "markdown",
   "id": "9d4444e3",
   "metadata": {
    "id": "9d4444e3"
   },
   "source": [
    "Now, use your **kmeanspp_centroids** function to generate four random centroids. Then, use your **mykMeans** function to cluster the pixels of the *mandrill.jpg* image. (You may want to reshape your image before applying the **mykMeans** function.) Display the final clustered image."
   ]
  },
  {
   "cell_type": "code",
   "execution_count": 13,
   "id": "1769233d",
   "metadata": {
    "colab": {
     "base_uri": "https://localhost:8080/",
     "height": 243
    },
    "executionInfo": {
     "elapsed": 117,
     "status": "error",
     "timestamp": 1649256170564,
     "user": {
      "displayName": "Markus Hiller",
      "userId": "16727612601438706693"
     },
     "user_tz": -600
    },
    "id": "1769233d",
    "outputId": "2d6be6ec-e414-4d9c-8cd5-c280ee6b6865"
   },
   "outputs": [
    {
     "data": {
      "text/plain": [
       "Ellipsis"
      ]
     },
     "execution_count": 13,
     "metadata": {},
     "output_type": "execute_result"
    }
   ],
   "source": [
    "# We first specify our random seed here\n",
    "np.random.seed(0)\n",
    "\n",
    "### Insert your solution here ###\n",
    "\n",
    "# Initialise the centroids with the kmeans++ method, and run the clustering\n",
    "...\n",
    "\n",
    "# Display your results (image)\n",
    "..."
   ]
  },
  {
   "cell_type": "markdown",
   "id": "29d52ef4",
   "metadata": {
    "id": "29d52ef4"
   },
   "source": [
    "<div class=\"alert alert-block alert-success\">\n",
    "    \n",
    "#### Were you able to obtain the same results (the same clustered mandrill image) as you did with the random initialization, or do they differ significantly? Were you able to obtain the results faster than with the random initialization? Report your findings, and explain why you think this happens!\n",
    "\n",
    "Write your answer here\n",
    "\n",
    "</div>"
   ]
  },
  {
   "cell_type": "markdown",
   "id": "3dea836c",
   "metadata": {
    "id": "3dea836c"
   },
   "source": [
    "<div class=\"alert alert-block alert-info\">\n",
    "    \n",
    "## Tasks 5: Comparison between Random Initialization and k-Means++ Initialization\n",
    "    \n",
    "In this task, you will visualize the effects of random initialization and k-Means++ initialization by plotting the initially generated centroids with respect to the final clustering result of all data points. Also, you will observe the loss of k-Means Clustering and how the two types of initializations affect the convergence of the algorithm.\n",
    "    \n",
    "    \n",
    "</div>"
   ]
  },
  {
   "cell_type": "code",
   "execution_count": 14,
   "id": "17c4be3b",
   "metadata": {
    "id": "17c4be3b"
   },
   "outputs": [],
   "source": [
    "# We are setting a fixed seed here\n",
    "np.random.seed(5)"
   ]
  },
  {
   "cell_type": "markdown",
   "id": "6d4ffd17",
   "metadata": {
    "id": "6d4ffd17"
   },
   "source": [
    "Use random initialization to cluster the pixels of the *mandrill.png* image."
   ]
  },
  {
   "cell_type": "code",
   "execution_count": 15,
   "id": "a8e38301",
   "metadata": {
    "colab": {
     "base_uri": "https://localhost:8080/",
     "height": 207
    },
    "executionInfo": {
     "elapsed": 694,
     "status": "error",
     "timestamp": 1649256467809,
     "user": {
      "displayName": "Markus Hiller",
      "userId": "16727612601438706693"
     },
     "user_tz": -600
    },
    "id": "a8e38301",
    "outputId": "d5a19c84-ef10-42ae-fde5-fd679f8ef782"
   },
   "outputs": [
    {
     "data": {
      "text/plain": [
       "Ellipsis"
      ]
     },
     "execution_count": 15,
     "metadata": {},
     "output_type": "execute_result"
    }
   ],
   "source": [
    "### Insert your solution here ###\n",
    "\n",
    "# Randomly initialize the centroids and obtain the clustering results -- you can choose T=20 iterations to start with\n",
    "..."
   ]
  },
  {
   "cell_type": "markdown",
   "id": "80ad63e6",
   "metadata": {
    "id": "80ad63e6"
   },
   "source": [
    "Use k-Means++ initialization to cluster the pixels of the *mandrill.png* image."
   ]
  },
  {
   "cell_type": "code",
   "execution_count": 16,
   "id": "1f101cdc",
   "metadata": {
    "id": "1f101cdc",
    "outputId": "bc20ff2d-6b31-44c7-b5ac-740490f5b28e"
   },
   "outputs": [
    {
     "data": {
      "text/plain": [
       "Ellipsis"
      ]
     },
     "execution_count": 16,
     "metadata": {},
     "output_type": "execute_result"
    }
   ],
   "source": [
    "### Insert your solution here ###\n",
    "\n",
    "# Initialize the centroids via k-Means++ and obtain the clustering results -- you can choose T=20 iterations to start with\n",
    "..."
   ]
  },
  {
   "cell_type": "markdown",
   "id": "85aeed91",
   "metadata": {
    "id": "85aeed91"
   },
   "source": [
    "Plot the generated centroids from each initialization method together with the final clustering result of the data points (by using corresponding centroid colours). You may want generate a side-by-side plot for easier comparison of the two methods (e.g. via subplots)."
   ]
  },
  {
   "cell_type": "code",
   "execution_count": 17,
   "id": "307fb46d",
   "metadata": {
    "id": "307fb46d",
    "outputId": "c6c6e0f0-fd07-484b-9341-5b9b5e6b639e",
    "scrolled": true
   },
   "outputs": [
    {
     "data": {
      "text/plain": [
       "Ellipsis"
      ]
     },
     "execution_count": 17,
     "metadata": {},
     "output_type": "execute_result"
    }
   ],
   "source": [
    "### Insert your solution here ###\n",
    "\n",
    "# Create (sub)plot to display the centroid and final cluster results obtained with Random Initialization\n",
    "...\n",
    "\n",
    "\n",
    "# Create (sub)plot to display the centroid and final cluster results obtained with k-Means++ Initialization\n",
    "...\n",
    "\n",
    "\n",
    "# Display the results\n",
    "...  "
   ]
  },
  {
   "cell_type": "markdown",
   "id": "0df43c56",
   "metadata": {
    "id": "0df43c56"
   },
   "source": [
    "Observe the location of the initial centroids of random initialization and the K-means++ method!"
   ]
  },
  {
   "cell_type": "markdown",
   "id": "b911aa4f",
   "metadata": {
    "id": "b911aa4f"
   },
   "source": [
    "Plot the loss of the two k-Means Clustering methods over the number of iterations. You may want plot the loss curves of the two methods in the same plot for convenience of comparison."
   ]
  },
  {
   "cell_type": "code",
   "execution_count": 18,
   "id": "5d7290df",
   "metadata": {
    "id": "5d7290df",
    "outputId": "95ffdf5f-3842-4e28-8f3d-b583bc3a7dd0"
   },
   "outputs": [
    {
     "data": {
      "text/plain": [
       "Ellipsis"
      ]
     },
     "execution_count": 18,
     "metadata": {},
     "output_type": "execute_result"
    }
   ],
   "source": [
    "### Insert your solution here ###\n",
    "\n",
    "#Create the loss plots and display the results\n",
    "..."
   ]
  },
  {
   "cell_type": "markdown",
   "id": "8475379a",
   "metadata": {
    "id": "8475379a"
   },
   "source": [
    "<div class=\"alert alert-block alert-success\">\n",
    "    \n",
    "    \n",
    "    \n",
    "#### From your results, discuss the main differences between random initialization and k-Means++ initialization. What do you notice regarding the position of the initial centroids? Which one do you think is better, and why? What do you observe regarding the loss and convergence of both methods? Discuss the pros and cons of the two methods.\n",
    "\n",
    "Write your answer here\n",
    "\n",
    "</div>"
   ]
  },
  {
   "cell_type": "markdown",
   "id": "0cc917b2",
   "metadata": {
    "id": "0cc917b2"
   },
   "source": [
    "<div class=\"alert alert-block alert-warning\">\n",
    "    \n",
    "# <center> That is all for this Lab!\n",
    "    \n",
    "</div>"
   ]
  }
 ],
 "metadata": {
  "colab": {
   "collapsed_sections": [],
   "name": "ECE_4076_5176_Lab3_kMeans_solution.ipynb",
   "provenance": []
  },
  "kernelspec": {
   "display_name": "Python 3 (ipykernel)",
   "language": "python",
   "name": "python3"
  },
  "language_info": {
   "codemirror_mode": {
    "name": "ipython",
    "version": 3
   },
   "file_extension": ".py",
   "mimetype": "text/x-python",
   "name": "python",
   "nbconvert_exporter": "python",
   "pygments_lexer": "ipython3",
   "version": "3.7.10"
  }
 },
 "nbformat": 4,
 "nbformat_minor": 5
}
